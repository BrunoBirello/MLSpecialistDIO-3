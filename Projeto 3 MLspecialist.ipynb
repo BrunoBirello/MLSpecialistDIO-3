{
 "cells": [
  {
   "cell_type": "code",
   "execution_count": 4,
   "id": "3b29a2a2-8dda-44c4-a82f-5c7c654086ad",
   "metadata": {},
   "outputs": [
    {
     "name": "stdout",
     "output_type": "stream",
     "text": [
      "{'Sensibilidade (Recall)': 0.8333333333333334, 'Especificidade': 0.25, 'Acurácia': 0.6, 'Precisão': 0.625, 'F-score': 0.7142857142857143}\n"
     ]
    }
   ],
   "source": [
    "def calcular_metricas(VP, VN, FP, FN):\n",
    "    # Cálculo das métricas\n",
    "    sensibilidade = VP / (VP + FN) if (VP + FN) != 0 else 0\n",
    "    especificidade = VN / (FP + VN) if (FP + VN) != 0 else 0\n",
    "    acuracia = (VP + VN) / (VP + VN + FP + FN) if (VP + VN + FP + FN) != 0 else 0\n",
    "    precisao = VP / (VP + FP) if (VP + FP) != 0 else 0\n",
    "    f_score = 2 * (precisao * sensibilidade) / (precisao + sensibilidade) if (precisao + sensibilidade) != 0 else 0\n",
    "    \n",
    "    # Retorna as métricas calculadas\n",
    "    return {\n",
    "        'Sensibilidade (Recall)': sensibilidade,\n",
    "        'Especificidade': especificidade,\n",
    "        'Acurácia': acuracia,\n",
    "        'Precisão': precisao,\n",
    "        'F-score': f_score\n",
    "    }\n",
    "\n",
    "# Exemplo de uso com uma matriz de confusão arbitrária\n",
    "VP = 50\n",
    "VN = 10\n",
    "FP = 30\n",
    "FN = 10\n",
    "\n",
    "metricas = calcular_metricas(VP, VN, FP, FN)\n",
    "print(metricas)"
   ]
  },
  {
   "cell_type": "code",
   "execution_count": null,
   "id": "39c4e8e4-c93b-4fd8-9d6d-19d4614204d6",
   "metadata": {},
   "outputs": [],
   "source": []
  }
 ],
 "metadata": {
  "kernelspec": {
   "display_name": "Python 3 (ipykernel)",
   "language": "python",
   "name": "python3"
  },
  "language_info": {
   "codemirror_mode": {
    "name": "ipython",
    "version": 3
   },
   "file_extension": ".py",
   "mimetype": "text/x-python",
   "name": "python",
   "nbconvert_exporter": "python",
   "pygments_lexer": "ipython3",
   "version": "3.11.9"
  }
 },
 "nbformat": 4,
 "nbformat_minor": 5
}
